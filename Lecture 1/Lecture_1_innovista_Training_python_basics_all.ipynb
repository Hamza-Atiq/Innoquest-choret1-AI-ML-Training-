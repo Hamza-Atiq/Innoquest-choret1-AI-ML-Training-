{
  "nbformat": 4,
  "nbformat_minor": 0,
  "metadata": {
    "colab": {
      "provenance": [],
      "authorship_tag": "ABX9TyN7HJVVaE34SDCpdxV5wqjm",
      "include_colab_link": true
    },
    "kernelspec": {
      "name": "python3",
      "display_name": "Python 3"
    },
    "language_info": {
      "name": "python"
    }
  },
  "cells": [
    {
      "cell_type": "markdown",
      "metadata": {
        "id": "view-in-github",
        "colab_type": "text"
      },
      "source": [
        "<a href=\"https://colab.research.google.com/github/Hamza-Atiq/Innoquest-choret1-AI-ML-Training-/blob/main/Lecture_1_innovista_Training_python_basics_all.ipynb\" target=\"_parent\"><img src=\"https://colab.research.google.com/assets/colab-badge.svg\" alt=\"Open In Colab\"/></a>"
      ]
    },
    {
      "cell_type": "markdown",
      "source": [
        "# 1- **Variables**"
      ],
      "metadata": {
        "id": "8CP3lLpVI855"
      }
    },
    {
      "cell_type": "code",
      "execution_count": null,
      "metadata": {
        "colab": {
          "base_uri": "https://localhost:8080/"
        },
        "id": "1xv_yGKbHgIP",
        "outputId": "9dd50767-e110-4479-c1b9-9e7106f5b957"
      },
      "outputs": [
        {
          "output_type": "stream",
          "name": "stdout",
          "text": [
            "Hamza Atiq\n"
          ]
        }
      ],
      "source": [
        "name : str = 'Hamza Atiq'\n",
        "print(name)"
      ]
    },
    {
      "cell_type": "code",
      "source": [
        "x , y , z = 23 , 45 , 67\n",
        "print(x)\n",
        "print(y)\n",
        "print(z)"
      ],
      "metadata": {
        "colab": {
          "base_uri": "https://localhost:8080/"
        },
        "id": "BDcgiTDsJPLF",
        "outputId": "880c5a35-c007-4eeb-8c1d-266d13419e24"
      },
      "execution_count": null,
      "outputs": [
        {
          "output_type": "stream",
          "name": "stdout",
          "text": [
            "23\n",
            "45\n",
            "67\n"
          ]
        }
      ]
    },
    {
      "cell_type": "code",
      "source": [
        "y , z"
      ],
      "metadata": {
        "colab": {
          "base_uri": "https://localhost:8080/"
        },
        "id": "xj0Ptef3J9be",
        "outputId": "fb5b1379-be84-4a27-b6a6-62c726989f6e"
      },
      "execution_count": null,
      "outputs": [
        {
          "output_type": "execute_result",
          "data": {
            "text/plain": [
              "(45, 67)"
            ]
          },
          "metadata": {},
          "execution_count": 7
        }
      ]
    },
    {
      "cell_type": "markdown",
      "source": [
        "# 2- **Data Types**\n",
        "\n",
        "## Int , float , str , bool"
      ],
      "metadata": {
        "id": "QxuY3NDHKyUZ"
      }
    },
    {
      "cell_type": "code",
      "source": [
        "x1 : int = 5\n",
        "print(type(x1))"
      ],
      "metadata": {
        "colab": {
          "base_uri": "https://localhost:8080/"
        },
        "id": "t4kMNKu8KNHU",
        "outputId": "e91dd7f6-c863-4a0b-9cdd-bb11a4a26ab3"
      },
      "execution_count": null,
      "outputs": [
        {
          "output_type": "stream",
          "name": "stdout",
          "text": [
            "<class 'int'>\n"
          ]
        }
      ]
    },
    {
      "cell_type": "code",
      "source": [
        "x2 : float = 5.5\n",
        "print(type(x2))"
      ],
      "metadata": {
        "colab": {
          "base_uri": "https://localhost:8080/"
        },
        "id": "-QnMypr_LYso",
        "outputId": "5fd4486a-eb76-41bc-f3a2-d25486f95e76"
      },
      "execution_count": null,
      "outputs": [
        {
          "output_type": "stream",
          "name": "stdout",
          "text": [
            "<class 'float'>\n"
          ]
        }
      ]
    },
    {
      "cell_type": "code",
      "source": [
        "x3 : str = 'Hamza'\n",
        "print(type(x3))"
      ],
      "metadata": {
        "colab": {
          "base_uri": "https://localhost:8080/"
        },
        "id": "epswj_NcLejG",
        "outputId": "4006896d-97e9-4d0e-8817-09fefe28f128"
      },
      "execution_count": null,
      "outputs": [
        {
          "output_type": "stream",
          "name": "stdout",
          "text": [
            "<class 'str'>\n"
          ]
        }
      ]
    },
    {
      "cell_type": "code",
      "source": [
        "x4 : bool = True\n",
        "print(type(x4))"
      ],
      "metadata": {
        "colab": {
          "base_uri": "https://localhost:8080/"
        },
        "id": "0Yz-BCTALyIo",
        "outputId": "a36a107e-4279-4a81-9a5f-8d28350847c6"
      },
      "execution_count": null,
      "outputs": [
        {
          "output_type": "stream",
          "name": "stdout",
          "text": [
            "<class 'bool'>\n"
          ]
        }
      ]
    },
    {
      "cell_type": "code",
      "source": [
        "int(x2)"
      ],
      "metadata": {
        "colab": {
          "base_uri": "https://localhost:8080/"
        },
        "id": "Y3BEnD-BLz5r",
        "outputId": "2a4c73fc-f5fc-4abf-b738-7f4978a0984b"
      },
      "execution_count": null,
      "outputs": [
        {
          "output_type": "execute_result",
          "data": {
            "text/plain": [
              "5"
            ]
          },
          "metadata": {},
          "execution_count": 14
        }
      ]
    },
    {
      "cell_type": "code",
      "source": [
        "'Hamza' 'Atiq'"
      ],
      "metadata": {
        "colab": {
          "base_uri": "https://localhost:8080/",
          "height": 35
        },
        "id": "jDYNeLp7MBpG",
        "outputId": "b1e5a99d-0384-42a6-c6ab-9470111a937a"
      },
      "execution_count": null,
      "outputs": [
        {
          "output_type": "execute_result",
          "data": {
            "text/plain": [
              "'HamzaAtiq'"
            ],
            "application/vnd.google.colaboratory.intrinsic+json": {
              "type": "string"
            }
          },
          "metadata": {},
          "execution_count": 17
        }
      ]
    },
    {
      "cell_type": "code",
      "source": [
        "'Hamza ' + 'Atiq'"
      ],
      "metadata": {
        "colab": {
          "base_uri": "https://localhost:8080/",
          "height": 35
        },
        "id": "HBviXKOJNZ7z",
        "outputId": "0385708d-6100-4790-f9be-3baba13fd2d6"
      },
      "execution_count": null,
      "outputs": [
        {
          "output_type": "execute_result",
          "data": {
            "text/plain": [
              "'Hamza Atiq'"
            ],
            "application/vnd.google.colaboratory.intrinsic+json": {
              "type": "string"
            }
          },
          "metadata": {},
          "execution_count": 19
        }
      ]
    },
    {
      "cell_type": "code",
      "source": [
        "'\"\\\"'"
      ],
      "metadata": {
        "colab": {
          "base_uri": "https://localhost:8080/",
          "height": 35
        },
        "id": "ynHRTDXlNk8x",
        "outputId": "a9ca46f2-136f-486f-b279-10a763ddabd0"
      },
      "execution_count": null,
      "outputs": [
        {
          "output_type": "execute_result",
          "data": {
            "text/plain": [
              "'\"\"'"
            ],
            "application/vnd.google.colaboratory.intrinsic+json": {
              "type": "string"
            }
          },
          "metadata": {},
          "execution_count": 20
        }
      ]
    },
    {
      "cell_type": "markdown",
      "source": [
        "# 3- **Arithematic Operators**\n",
        "\n",
        "## + , - , * , /"
      ],
      "metadata": {
        "id": "PZH6q2YzPpsC"
      }
    },
    {
      "cell_type": "code",
      "source": [
        "5 + 2"
      ],
      "metadata": {
        "colab": {
          "base_uri": "https://localhost:8080/"
        },
        "id": "tLX03hxvPc_K",
        "outputId": "fff18b9a-58b9-4589-dc46-0735a54e859a"
      },
      "execution_count": null,
      "outputs": [
        {
          "output_type": "execute_result",
          "data": {
            "text/plain": [
              "7"
            ]
          },
          "metadata": {},
          "execution_count": 21
        }
      ]
    },
    {
      "cell_type": "code",
      "source": [
        "5 * 2"
      ],
      "metadata": {
        "colab": {
          "base_uri": "https://localhost:8080/"
        },
        "id": "-csyL-UpQCVV",
        "outputId": "e7d9eb37-521a-4943-8f5b-516b29d81460"
      },
      "execution_count": null,
      "outputs": [
        {
          "output_type": "execute_result",
          "data": {
            "text/plain": [
              "10"
            ]
          },
          "metadata": {},
          "execution_count": 22
        }
      ]
    },
    {
      "cell_type": "code",
      "source": [
        "5 ** 2"
      ],
      "metadata": {
        "colab": {
          "base_uri": "https://localhost:8080/"
        },
        "id": "GNQ4-hjhQEa3",
        "outputId": "59ae1357-75f7-4640-f04e-f8ef3085e2d8"
      },
      "execution_count": null,
      "outputs": [
        {
          "output_type": "execute_result",
          "data": {
            "text/plain": [
              "25"
            ]
          },
          "metadata": {},
          "execution_count": 23
        }
      ]
    },
    {
      "cell_type": "code",
      "source": [
        "5 / 2"
      ],
      "metadata": {
        "colab": {
          "base_uri": "https://localhost:8080/"
        },
        "id": "sgBXQp48QGYg",
        "outputId": "26a91cb3-89ea-4858-ff4b-ae78c7a3e0e1"
      },
      "execution_count": null,
      "outputs": [
        {
          "output_type": "execute_result",
          "data": {
            "text/plain": [
              "2.5"
            ]
          },
          "metadata": {},
          "execution_count": 24
        }
      ]
    },
    {
      "cell_type": "code",
      "source": [
        "5 // 2"
      ],
      "metadata": {
        "colab": {
          "base_uri": "https://localhost:8080/"
        },
        "id": "48AOELp1QIZh",
        "outputId": "ec7bb2dc-6470-4e8f-a457-9c56a40fbdf4"
      },
      "execution_count": null,
      "outputs": [
        {
          "output_type": "execute_result",
          "data": {
            "text/plain": [
              "2"
            ]
          },
          "metadata": {},
          "execution_count": 25
        }
      ]
    },
    {
      "cell_type": "code",
      "source": [
        "5 % 2"
      ],
      "metadata": {
        "colab": {
          "base_uri": "https://localhost:8080/"
        },
        "id": "ugPl8MMgQKgi",
        "outputId": "fb34b1db-4483-4c7f-da49-d675a0742202"
      },
      "execution_count": null,
      "outputs": [
        {
          "output_type": "execute_result",
          "data": {
            "text/plain": [
              "1"
            ]
          },
          "metadata": {},
          "execution_count": 26
        }
      ]
    },
    {
      "cell_type": "code",
      "source": [
        "5 - 2"
      ],
      "metadata": {
        "colab": {
          "base_uri": "https://localhost:8080/"
        },
        "id": "1exG20GjQL9z",
        "outputId": "7487d986-53a8-483a-a70f-1b13260ccbc5"
      },
      "execution_count": null,
      "outputs": [
        {
          "output_type": "execute_result",
          "data": {
            "text/plain": [
              "3"
            ]
          },
          "metadata": {},
          "execution_count": 27
        }
      ]
    },
    {
      "cell_type": "code",
      "source": [
        "2 + 3.4 \\\n",
        "+3"
      ],
      "metadata": {
        "colab": {
          "base_uri": "https://localhost:8080/"
        },
        "id": "CGf-gEZNQO-x",
        "outputId": "96ab8518-cde3-4b13-8f5f-ebe8b68b9aa4"
      },
      "execution_count": null,
      "outputs": [
        {
          "output_type": "execute_result",
          "data": {
            "text/plain": [
              "8.4"
            ]
          },
          "metadata": {},
          "execution_count": 28
        }
      ]
    },
    {
      "cell_type": "code",
      "source": [
        "print('My name is \\\n",
        "Hamza Atiq')"
      ],
      "metadata": {
        "colab": {
          "base_uri": "https://localhost:8080/"
        },
        "id": "2TGn9hzMQ_j-",
        "outputId": "20c88162-2368-4ada-e666-df1a7f465fbe"
      },
      "execution_count": null,
      "outputs": [
        {
          "output_type": "stream",
          "name": "stdout",
          "text": [
            "My name is Hamza Atiq\n"
          ]
        }
      ]
    },
    {
      "cell_type": "code",
      "source": [
        "x4 : int = 9.9\n",
        "round(x4)"
      ],
      "metadata": {
        "colab": {
          "base_uri": "https://localhost:8080/"
        },
        "id": "0vcUB-2oRImA",
        "outputId": "208beacb-0733-4ec6-fb4c-992233433b95"
      },
      "execution_count": null,
      "outputs": [
        {
          "output_type": "execute_result",
          "data": {
            "text/plain": [
              "10"
            ]
          },
          "metadata": {},
          "execution_count": 30
        }
      ]
    },
    {
      "cell_type": "code",
      "source": [
        "course : str = 'Deep Learning'\n",
        "print(course[6])\n",
        "print(course[6:])\n",
        "print(course[:6])\n",
        "print(course[-1:])\n",
        "print(course[0:10:2])\n",
        "print(course[::-1])"
      ],
      "metadata": {
        "colab": {
          "base_uri": "https://localhost:8080/"
        },
        "id": "da8OXV31W5p1",
        "outputId": "cf32b59b-8a8e-48b2-c3b5-1152d28503f5"
      },
      "execution_count": null,
      "outputs": [
        {
          "output_type": "stream",
          "name": "stdout",
          "text": [
            "e\n",
            "earning\n",
            "Deep L\n",
            "g\n",
            "De er\n",
            "gninraeL peeD\n"
          ]
        }
      ]
    },
    {
      "cell_type": "code",
      "source": [
        "# first not\n",
        "# second and\n",
        "# third or\n",
        "not True and False or False"
      ],
      "metadata": {
        "colab": {
          "base_uri": "https://localhost:8080/"
        },
        "id": "eLt1nuYnXZ4w",
        "outputId": "ff79644c-38c7-47e4-a235-03e5324df9ed"
      },
      "execution_count": null,
      "outputs": [
        {
          "output_type": "execute_result",
          "data": {
            "text/plain": [
              "False"
            ]
          },
          "metadata": {},
          "execution_count": 34
        }
      ]
    },
    {
      "cell_type": "code",
      "source": [
        "True or False and False and not True"
      ],
      "metadata": {
        "colab": {
          "base_uri": "https://localhost:8080/"
        },
        "id": "Shc8BOpOYiXw",
        "outputId": "b7cf03e4-679d-44da-cd5b-eeed6d2c1837"
      },
      "execution_count": null,
      "outputs": [
        {
          "output_type": "execute_result",
          "data": {
            "text/plain": [
              "True"
            ]
          },
          "metadata": {},
          "execution_count": 36
        }
      ]
    },
    {
      "cell_type": "markdown",
      "source": [
        "# 4- **Conditional Statements**"
      ],
      "metadata": {
        "id": "kIro-3YzYv_u"
      }
    },
    {
      "cell_type": "code",
      "source": [
        "x : int = 10\n",
        "y : int = 25\n",
        "\n",
        "# if returns boolean only\n",
        "\n",
        "if x > y:\n",
        "    print('x is greater than y')\n",
        "elif x < y:\n",
        "    print('x is less than y')\n",
        "elif x == y:\n",
        "    print('x is equal to y')\n",
        "else:\n",
        "    print('x is equal to y')"
      ],
      "metadata": {
        "colab": {
          "base_uri": "https://localhost:8080/"
        },
        "id": "-wDTQCpOYnvU",
        "outputId": "4096a827-640c-456a-9429-1ebd115377e4"
      },
      "execution_count": null,
      "outputs": [
        {
          "output_type": "stream",
          "name": "stdout",
          "text": [
            "x is less than y\n"
          ]
        }
      ]
    },
    {
      "cell_type": "markdown",
      "source": [
        "# 5- **Functions**"
      ],
      "metadata": {
        "id": "CD5u4wdqaViT"
      }
    },
    {
      "cell_type": "code",
      "source": [
        "def func():\n",
        "\n",
        "    print('Hamza Atiq')\n",
        "\n",
        "func()"
      ],
      "metadata": {
        "colab": {
          "base_uri": "https://localhost:8080/"
        },
        "id": "zMNeMI9qaToq",
        "outputId": "36cc8c9e-a0fb-42a4-faea-dc380b1cc0fe"
      },
      "execution_count": null,
      "outputs": [
        {
          "output_type": "stream",
          "name": "stdout",
          "text": [
            "Hamza Atiq\n"
          ]
        }
      ]
    },
    {
      "cell_type": "code",
      "source": [
        "def func(name):\n",
        "\n",
        "    print(f'My name is {name}')\n",
        "\n",
        "func('Hamza Atiq')"
      ],
      "metadata": {
        "colab": {
          "base_uri": "https://localhost:8080/"
        },
        "id": "ElNTkb3wZBIb",
        "outputId": "208e20db-07b8-4d80-b3ee-4c5b98401f98"
      },
      "execution_count": null,
      "outputs": [
        {
          "output_type": "stream",
          "name": "stdout",
          "text": [
            "My name is Hamza Atiq\n"
          ]
        }
      ]
    },
    {
      "cell_type": "code",
      "source": [
        "def addition(x , y):\n",
        "\n",
        "    return x + y\n",
        "\n",
        "addition(2 , 3)"
      ],
      "metadata": {
        "colab": {
          "base_uri": "https://localhost:8080/"
        },
        "id": "AKnYrpLQbARE",
        "outputId": "c15d2215-952f-46d0-f13e-1d4e62c99826"
      },
      "execution_count": null,
      "outputs": [
        {
          "output_type": "execute_result",
          "data": {
            "text/plain": [
              "5"
            ]
          },
          "metadata": {},
          "execution_count": 40
        }
      ]
    },
    {
      "cell_type": "code",
      "source": [
        "addition(34 , 9)\n",
        "print(addition(34 , 90))"
      ],
      "metadata": {
        "colab": {
          "base_uri": "https://localhost:8080/"
        },
        "id": "34woDUX1bFTH",
        "outputId": "1bfdb794-d39e-4959-ca09-d6064dc2ea6c"
      },
      "execution_count": null,
      "outputs": [
        {
          "output_type": "stream",
          "name": "stdout",
          "text": [
            "124\n"
          ]
        }
      ]
    },
    {
      "cell_type": "code",
      "source": [
        "max ( 4 , 89)"
      ],
      "metadata": {
        "colab": {
          "base_uri": "https://localhost:8080/"
        },
        "id": "Xtl3kxcDbLfX",
        "outputId": "d6a5c8cb-f9ca-4239-fff2-43c9ddc5384e"
      },
      "execution_count": null,
      "outputs": [
        {
          "output_type": "execute_result",
          "data": {
            "text/plain": [
              "89"
            ]
          },
          "metadata": {},
          "execution_count": 43
        }
      ]
    },
    {
      "cell_type": "code",
      "source": [
        "min (3 , 12)"
      ],
      "metadata": {
        "colab": {
          "base_uri": "https://localhost:8080/"
        },
        "id": "z666YceMbi2w",
        "outputId": "0676f954-b931-41f8-cf68-6c12d2278f63"
      },
      "execution_count": null,
      "outputs": [
        {
          "output_type": "execute_result",
          "data": {
            "text/plain": [
              "3"
            ]
          },
          "metadata": {},
          "execution_count": 44
        }
      ]
    },
    {
      "cell_type": "code",
      "source": [
        "abs (-12)"
      ],
      "metadata": {
        "colab": {
          "base_uri": "https://localhost:8080/"
        },
        "id": "7G9mtkwvbuCx",
        "outputId": "fc9a3cd8-4e94-40d1-f83b-1c985c8618bd"
      },
      "execution_count": null,
      "outputs": [
        {
          "output_type": "execute_result",
          "data": {
            "text/plain": [
              "12"
            ]
          },
          "metadata": {},
          "execution_count": 45
        }
      ]
    },
    {
      "cell_type": "markdown",
      "source": [
        "# 6- **Data Structures**\n",
        "\n",
        "## list tuple set dictionary"
      ],
      "metadata": {
        "id": "TYvap64Ab4Wz"
      }
    },
    {
      "cell_type": "code",
      "source": [
        "name : list = ['Hamza' , 'Atiq']\n",
        "print(name)"
      ],
      "metadata": {
        "colab": {
          "base_uri": "https://localhost:8080/"
        },
        "id": "pnnTQChKb1Vj",
        "outputId": "648472dd-3126-456c-c1a7-06888a61c21f"
      },
      "execution_count": null,
      "outputs": [
        {
          "output_type": "stream",
          "name": "stdout",
          "text": [
            "['Hamza', 'Atiq']\n"
          ]
        }
      ]
    },
    {
      "cell_type": "code",
      "source": [
        "numbers : int = [1 , 3 , 5 , 7 , 8]\n",
        "print(numbers)"
      ],
      "metadata": {
        "colab": {
          "base_uri": "https://localhost:8080/"
        },
        "id": "l8n6dDRpbvh-",
        "outputId": "11562c47-0b9e-45f0-cdcb-23c7395d3b0e"
      },
      "execution_count": null,
      "outputs": [
        {
          "output_type": "stream",
          "name": "stdout",
          "text": [
            "[1, 3, 5, 7, 8]\n"
          ]
        }
      ]
    },
    {
      "cell_type": "code",
      "source": [
        "two_list = [name , numbers]\n",
        "print(two_list)"
      ],
      "metadata": {
        "colab": {
          "base_uri": "https://localhost:8080/"
        },
        "id": "MFuBrB8UeOPK",
        "outputId": "4030e961-12d0-4a05-9f6d-c88c719ea798"
      },
      "execution_count": null,
      "outputs": [
        {
          "output_type": "stream",
          "name": "stdout",
          "text": [
            "[['Hamza', 'Atiq'], [1, 3, 5, 7, 8]]\n"
          ]
        }
      ]
    },
    {
      "cell_type": "code",
      "source": [
        "two_list = name + numbers\n",
        "print(two_list)"
      ],
      "metadata": {
        "colab": {
          "base_uri": "https://localhost:8080/"
        },
        "id": "um1mZOtnfmcj",
        "outputId": "5d3ece50-ed03-4fc5-9737-8c2bf24e4a5b"
      },
      "execution_count": null,
      "outputs": [
        {
          "output_type": "stream",
          "name": "stdout",
          "text": [
            "['Hamza', 'Atiq', 1, 3, 5, 7, 8]\n"
          ]
        }
      ]
    },
    {
      "cell_type": "code",
      "source": [
        "data = name.extend(numbers)\n",
        "print(name)\n",
        "print(data)"
      ],
      "metadata": {
        "colab": {
          "base_uri": "https://localhost:8080/"
        },
        "id": "VtKN9-MAfsoC",
        "outputId": "e865b9e5-ae5f-44a2-f9b7-8b7c11986604"
      },
      "execution_count": null,
      "outputs": [
        {
          "output_type": "stream",
          "name": "stdout",
          "text": [
            "['Hamza', 'Atiq', 1, 3, 5, 7, 8, 1, 3, 5, 7, 8, 1, 3, 5, 7, 8, 1, 3, 5, 7, 8, 1, 3, 5, 7, 8, 1, 3, 5, 7, 8]\n",
            "None\n"
          ]
        }
      ]
    },
    {
      "cell_type": "code",
      "source": [
        "two_list[1][-2]"
      ],
      "metadata": {
        "colab": {
          "base_uri": "https://localhost:8080/"
        },
        "id": "Br_EUIgAeTsU",
        "outputId": "c45e5c28-a7fc-441e-887b-21d93b80bb62"
      },
      "execution_count": null,
      "outputs": [
        {
          "output_type": "execute_result",
          "data": {
            "text/plain": [
              "7"
            ]
          },
          "metadata": {},
          "execution_count": 49
        }
      ]
    },
    {
      "cell_type": "code",
      "source": [
        "x = range(10)\n",
        "print(x[2:])"
      ],
      "metadata": {
        "colab": {
          "base_uri": "https://localhost:8080/"
        },
        "id": "aWp35_rueYUF",
        "outputId": "687ac521-2c65-4966-c6c2-f19bf4e394ae"
      },
      "execution_count": null,
      "outputs": [
        {
          "output_type": "stream",
          "name": "stdout",
          "text": [
            "range(2, 10)\n"
          ]
        }
      ]
    },
    {
      "cell_type": "code",
      "source": [
        "fruit : str = ('apple' , 'banana' , 'cherry')\n",
        "print(fruit)"
      ],
      "metadata": {
        "colab": {
          "base_uri": "https://localhost:8080/"
        },
        "id": "iJv_SVRbeqy2",
        "outputId": "181a9265-d33a-4126-e87b-1f816ed5bb97"
      },
      "execution_count": null,
      "outputs": [
        {
          "output_type": "stream",
          "name": "stdout",
          "text": [
            "('apple', 'banana', 'cherry')\n"
          ]
        }
      ]
    },
    {
      "cell_type": "code",
      "source": [
        "fruit[2]"
      ],
      "metadata": {
        "colab": {
          "base_uri": "https://localhost:8080/",
          "height": 35
        },
        "id": "QG2_FH5_e0S_",
        "outputId": "34031697-5b05-4d53-e3b2-c15ea9473c47"
      },
      "execution_count": null,
      "outputs": [
        {
          "output_type": "execute_result",
          "data": {
            "text/plain": [
              "'cherry'"
            ],
            "application/vnd.google.colaboratory.intrinsic+json": {
              "type": "string"
            }
          },
          "metadata": {},
          "execution_count": 54
        }
      ]
    },
    {
      "cell_type": "code",
      "source": [
        "names_tuple = tuple(name)\n",
        "print(names_tuple)"
      ],
      "metadata": {
        "colab": {
          "base_uri": "https://localhost:8080/"
        },
        "id": "qrncchKBe6GK",
        "outputId": "3f1981aa-299d-402b-a655-5be6007e2dfd"
      },
      "execution_count": null,
      "outputs": [
        {
          "output_type": "stream",
          "name": "stdout",
          "text": [
            "('Hamza', 'Atiq')\n"
          ]
        }
      ]
    },
    {
      "cell_type": "code",
      "source": [
        "homes_price : dict = {'house1' : 1000000 , 'house2' : 2000000 , 'house3' : 400000}\n",
        "print(homes_price)"
      ],
      "metadata": {
        "colab": {
          "base_uri": "https://localhost:8080/"
        },
        "id": "SwNGj9fefMD6",
        "outputId": "2eb2f5e4-24f9-4307-fd94-52027cedff98"
      },
      "execution_count": null,
      "outputs": [
        {
          "output_type": "stream",
          "name": "stdout",
          "text": [
            "{'house1': 1000000, 'house2': 2000000, 'house3': 400000}\n"
          ]
        }
      ]
    },
    {
      "cell_type": "code",
      "source": [
        "homes_price['house1'] = 1500000\n",
        "print(homes_price)"
      ],
      "metadata": {
        "colab": {
          "base_uri": "https://localhost:8080/"
        },
        "id": "ZZ4G-y_WgwbM",
        "outputId": "72c8ee1e-8a08-4792-bae2-827e7abd8b0f"
      },
      "execution_count": null,
      "outputs": [
        {
          "output_type": "stream",
          "name": "stdout",
          "text": [
            "{'house1': 1500000, 'house2': 2000000, 'house3': 400000}\n"
          ]
        }
      ]
    },
    {
      "cell_type": "code",
      "source": [
        "homes_price['house4'] = 500000\n",
        "print(homes_price)"
      ],
      "metadata": {
        "colab": {
          "base_uri": "https://localhost:8080/"
        },
        "id": "5cxdqqiwg5Tx",
        "outputId": "cb4f48f8-8953-4a80-b694-757f9d1a8902"
      },
      "execution_count": null,
      "outputs": [
        {
          "output_type": "stream",
          "name": "stdout",
          "text": [
            "{'house1': 1500000, 'house2': 2000000, 'house3': 400000, 'house4': 500000}\n"
          ]
        }
      ]
    },
    {
      "cell_type": "code",
      "source": [
        "for i in homes_price:\n",
        "    print(i)"
      ],
      "metadata": {
        "colab": {
          "base_uri": "https://localhost:8080/"
        },
        "id": "6j3G1oMqg7la",
        "outputId": "fde945c0-080f-4a8e-920b-d9ae02ef9ace"
      },
      "execution_count": null,
      "outputs": [
        {
          "output_type": "stream",
          "name": "stdout",
          "text": [
            "house1\n",
            "house2\n",
            "house3\n",
            "house4\n"
          ]
        }
      ]
    },
    {
      "cell_type": "code",
      "source": [
        "for i in homes_price.values():\n",
        "    print(i)"
      ],
      "metadata": {
        "colab": {
          "base_uri": "https://localhost:8080/"
        },
        "id": "xaMvl1FvjayC",
        "outputId": "a535872e-4f3b-4b81-f53a-ab7473fce0e6"
      },
      "execution_count": null,
      "outputs": [
        {
          "output_type": "stream",
          "name": "stdout",
          "text": [
            "1500000\n",
            "2000000\n",
            "400000\n",
            "500000\n"
          ]
        }
      ]
    },
    {
      "cell_type": "code",
      "source": [
        "for i in homes_price.items():\n",
        "    print(i)"
      ],
      "metadata": {
        "colab": {
          "base_uri": "https://localhost:8080/"
        },
        "id": "tSdzicShjdJx",
        "outputId": "24a90c5c-0924-4717-9924-45b1d0b29e05"
      },
      "execution_count": null,
      "outputs": [
        {
          "output_type": "stream",
          "name": "stdout",
          "text": [
            "('house1', 1500000)\n",
            "('house2', 2000000)\n",
            "('house3', 400000)\n",
            "('house4', 500000)\n"
          ]
        }
      ]
    },
    {
      "cell_type": "code",
      "source": [
        "for i , j in homes_price.items():\n",
        "    print(i , j)"
      ],
      "metadata": {
        "colab": {
          "base_uri": "https://localhost:8080/"
        },
        "id": "SzLex6YHjfYk",
        "outputId": "1d4c2085-150f-4037-dba4-7b9b5350d8f3"
      },
      "execution_count": null,
      "outputs": [
        {
          "output_type": "stream",
          "name": "stdout",
          "text": [
            "house1 1500000\n",
            "house2 2000000\n",
            "house3 400000\n",
            "house4 500000\n"
          ]
        }
      ]
    },
    {
      "cell_type": "code",
      "source": [
        "for i in homes_price:\n",
        "  print(homes_price[i])"
      ],
      "metadata": {
        "colab": {
          "base_uri": "https://localhost:8080/"
        },
        "id": "j3DH8RGQjhl0",
        "outputId": "e32f5c13-2959-44de-afe3-90b15397fc13"
      },
      "execution_count": null,
      "outputs": [
        {
          "output_type": "stream",
          "name": "stdout",
          "text": [
            "1500000\n",
            "2000000\n",
            "400000\n",
            "500000\n"
          ]
        }
      ]
    },
    {
      "cell_type": "code",
      "source": [
        "import math"
      ],
      "metadata": {
        "id": "RDG1IOAwjmF8"
      },
      "execution_count": null,
      "outputs": []
    },
    {
      "cell_type": "code",
      "source": [
        "len(dir(math))"
      ],
      "metadata": {
        "colab": {
          "base_uri": "https://localhost:8080/"
        },
        "id": "xq3MhdBgmf7B",
        "outputId": "baf681dc-6803-4d87-cba0-c43d9515edcf"
      },
      "execution_count": null,
      "outputs": [
        {
          "output_type": "execute_result",
          "data": {
            "text/plain": [
              "63"
            ]
          },
          "metadata": {},
          "execution_count": 75
        }
      ]
    },
    {
      "cell_type": "code",
      "source": [
        "print(dir(math))"
      ],
      "metadata": {
        "colab": {
          "base_uri": "https://localhost:8080/"
        },
        "id": "lWKFJnFOmhWQ",
        "outputId": "2acdc213-3ba4-4e09-be2f-77f458a6364a"
      },
      "execution_count": null,
      "outputs": [
        {
          "output_type": "stream",
          "name": "stdout",
          "text": [
            "['__doc__', '__loader__', '__name__', '__package__', '__spec__', 'acos', 'acosh', 'asin', 'asinh', 'atan', 'atan2', 'atanh', 'ceil', 'comb', 'copysign', 'cos', 'cosh', 'degrees', 'dist', 'e', 'erf', 'erfc', 'exp', 'expm1', 'fabs', 'factorial', 'floor', 'fmod', 'frexp', 'fsum', 'gamma', 'gcd', 'hypot', 'inf', 'isclose', 'isfinite', 'isinf', 'isnan', 'isqrt', 'lcm', 'ldexp', 'lgamma', 'log', 'log10', 'log1p', 'log2', 'modf', 'nan', 'nextafter', 'perm', 'pi', 'pow', 'prod', 'radians', 'remainder', 'sin', 'sinh', 'sqrt', 'tan', 'tanh', 'tau', 'trunc', 'ulp']\n"
          ]
        }
      ]
    },
    {
      "cell_type": "code",
      "source": [
        "help(math.comb)"
      ],
      "metadata": {
        "colab": {
          "base_uri": "https://localhost:8080/"
        },
        "id": "WNxmZkLgnv6v",
        "outputId": "a365c612-c8c5-42fe-bbb4-9e7f910168ee"
      },
      "execution_count": null,
      "outputs": [
        {
          "output_type": "stream",
          "name": "stdout",
          "text": [
            "Help on built-in function comb in module math:\n",
            "\n",
            "comb(n, k, /)\n",
            "    Number of ways to choose k items from n items without repetition and without order.\n",
            "    \n",
            "    Evaluates to n! / (k! * (n - k)!) when k <= n and evaluates\n",
            "    to zero when k > n.\n",
            "    \n",
            "    Also called the binomial coefficient because it is equivalent\n",
            "    to the coefficient of k-th term in polynomial expansion of the\n",
            "    expression (1 + x)**n.\n",
            "    \n",
            "    Raises TypeError if either of the arguments are not integers.\n",
            "    Raises ValueError if either of the arguments are negative.\n",
            "\n"
          ]
        }
      ]
    },
    {
      "cell_type": "code",
      "source": [
        "math.comb(5 ,10)"
      ],
      "metadata": {
        "colab": {
          "base_uri": "https://localhost:8080/"
        },
        "id": "IwMYpFBVofLR",
        "outputId": "de2ca05a-709f-46de-dfc0-39f3bf6c2cb7"
      },
      "execution_count": null,
      "outputs": [
        {
          "output_type": "execute_result",
          "data": {
            "text/plain": [
              "0"
            ]
          },
          "metadata": {},
          "execution_count": 85
        }
      ]
    },
    {
      "cell_type": "code",
      "source": [
        "math.comb(5 , 4)"
      ],
      "metadata": {
        "colab": {
          "base_uri": "https://localhost:8080/"
        },
        "id": "RFb2JFZTnUP7",
        "outputId": "d69878b2-072f-42b9-e6ee-167c350c19ce"
      },
      "execution_count": null,
      "outputs": [
        {
          "output_type": "execute_result",
          "data": {
            "text/plain": [
              "5"
            ]
          },
          "metadata": {},
          "execution_count": 83
        }
      ]
    },
    {
      "cell_type": "code",
      "source": [
        "math.comb(5 , 2)"
      ],
      "metadata": {
        "colab": {
          "base_uri": "https://localhost:8080/"
        },
        "id": "_0mUDGTcnQpY",
        "outputId": "ad2e2ff4-0111-48ac-b06f-39916aeca38c"
      },
      "execution_count": null,
      "outputs": [
        {
          "output_type": "execute_result",
          "data": {
            "text/plain": [
              "10"
            ]
          },
          "metadata": {},
          "execution_count": 82
        }
      ]
    },
    {
      "cell_type": "code",
      "source": [
        "math.ceil(2.3)"
      ],
      "metadata": {
        "colab": {
          "base_uri": "https://localhost:8080/"
        },
        "id": "8GDAyMGcnMV0",
        "outputId": "a547981b-1d09-4cf7-c469-9ffb9b119112"
      },
      "execution_count": null,
      "outputs": [
        {
          "output_type": "execute_result",
          "data": {
            "text/plain": [
              "3"
            ]
          },
          "metadata": {},
          "execution_count": 81
        }
      ]
    },
    {
      "cell_type": "code",
      "source": [
        "math.acosh(180)"
      ],
      "metadata": {
        "colab": {
          "base_uri": "https://localhost:8080/"
        },
        "id": "RNdmDZbDnGYa",
        "outputId": "cb731e06-5d8b-44e4-9345-9f542d64f7cf"
      },
      "execution_count": null,
      "outputs": [
        {
          "output_type": "execute_result",
          "data": {
            "text/plain": [
              "5.886096315311465"
            ]
          },
          "metadata": {},
          "execution_count": 80
        }
      ]
    },
    {
      "cell_type": "code",
      "source": [
        "math.acos(0.55)"
      ],
      "metadata": {
        "colab": {
          "base_uri": "https://localhost:8080/"
        },
        "id": "OS4C--QAmoMJ",
        "outputId": "bc7baea4-4603-4776-d69f-97b90610a182"
      },
      "execution_count": null,
      "outputs": [
        {
          "output_type": "execute_result",
          "data": {
            "text/plain": [
              "0.9884320889261531"
            ]
          },
          "metadata": {},
          "execution_count": 77
        }
      ]
    },
    {
      "cell_type": "code",
      "source": [
        "math.factorial(5)"
      ],
      "metadata": {
        "colab": {
          "base_uri": "https://localhost:8080/"
        },
        "id": "d9nTKwsZmt0n",
        "outputId": "9af15b03-f815-4502-b9ae-6dc3c531f360"
      },
      "execution_count": null,
      "outputs": [
        {
          "output_type": "execute_result",
          "data": {
            "text/plain": [
              "120"
            ]
          },
          "metadata": {},
          "execution_count": 78
        }
      ]
    },
    {
      "cell_type": "code",
      "source": [
        "math.factorial(2)"
      ],
      "metadata": {
        "colab": {
          "base_uri": "https://localhost:8080/"
        },
        "id": "ZkxA8X1UmyEO",
        "outputId": "7379de4a-2760-40ab-a653-ee15c15295b5"
      },
      "execution_count": null,
      "outputs": [
        {
          "output_type": "execute_result",
          "data": {
            "text/plain": [
              "2"
            ]
          },
          "metadata": {},
          "execution_count": 86
        }
      ]
    },
    {
      "cell_type": "code",
      "source": [
        "math.factorial(3)"
      ],
      "metadata": {
        "colab": {
          "base_uri": "https://localhost:8080/"
        },
        "id": "DphdUUG4ovkz",
        "outputId": "17d43aa7-99b2-4ddd-d6a1-689e1f049b2e"
      },
      "execution_count": null,
      "outputs": [
        {
          "output_type": "execute_result",
          "data": {
            "text/plain": [
              "6"
            ]
          },
          "metadata": {},
          "execution_count": 87
        }
      ]
    },
    {
      "cell_type": "code",
      "source": [
        "math.factorial(4)"
      ],
      "metadata": {
        "colab": {
          "base_uri": "https://localhost:8080/"
        },
        "id": "vH4iY0KepeNV",
        "outputId": "633f6b15-91f2-4c1f-aa68-8e1e4fbd8733"
      },
      "execution_count": null,
      "outputs": [
        {
          "output_type": "execute_result",
          "data": {
            "text/plain": [
              "24"
            ]
          },
          "metadata": {},
          "execution_count": 89
        }
      ]
    },
    {
      "cell_type": "code",
      "source": [
        "import scipy"
      ],
      "metadata": {
        "id": "MOhyMYR4oxq3"
      },
      "execution_count": null,
      "outputs": []
    },
    {
      "cell_type": "markdown",
      "source": [
        "# 7- **Classes**"
      ],
      "metadata": {
        "id": "meLUrF_Dpu6J"
      }
    },
    {
      "cell_type": "code",
      "source": [
        "class Car:\n",
        "\n",
        "  def __init__(self , name , model , color):\n",
        "    self.name = name\n",
        "    self.model = model\n",
        "    self.color = color\n",
        "\n",
        "  def show(self):\n",
        "    print('Car name is ' , self.name)\n",
        "    print('Car model is ' , self.model)\n",
        "    print('Car color is ' , self.color)\n",
        "\n",
        "  def windows(self , windows):\n",
        "    print('Car has ' , windows , 'windows')\n",
        "\n",
        "  def doors(self , doors):\n",
        "    print('Car has ' , doors , 'doors')\n",
        "\n",
        "  def engine(self , engine):\n",
        "    print('Car has ' , engine , 'engine')\n",
        "\n",
        "  def speed(self , speed):\n",
        "    print('Car speed is ' , speed)\n",
        "\n",
        "car1 = Car('Toyota' , 'Corolla' , 'Black')\n",
        "\n",
        "car1.show()\n",
        "car1.windows(4)\n",
        "car1.doors(4)\n",
        "car1.engine('Petrol')\n",
        "car1.speed(200)"
      ],
      "metadata": {
        "colab": {
          "base_uri": "https://localhost:8080/"
        },
        "id": "qVS_05C5o_DS",
        "outputId": "cb3c71bb-5457-4371-e0a3-0d9aabe0d8d9"
      },
      "execution_count": null,
      "outputs": [
        {
          "output_type": "stream",
          "name": "stdout",
          "text": [
            "Car name is  Toyota\n",
            "Car model is  Corolla\n",
            "Car color is  Black\n",
            "Car has  4 windows\n",
            "Car has  4 doors\n",
            "Car has  Petrol engine\n",
            "Car speed is  200\n"
          ]
        }
      ]
    },
    {
      "cell_type": "code",
      "source": [
        "dir(car1)"
      ],
      "metadata": {
        "colab": {
          "base_uri": "https://localhost:8080/"
        },
        "id": "dAmSjgbnqGmb",
        "outputId": "b38cfe0e-952e-4e66-b3e7-33e6dd22137b"
      },
      "execution_count": null,
      "outputs": [
        {
          "output_type": "execute_result",
          "data": {
            "text/plain": [
              "['__class__',\n",
              " '__delattr__',\n",
              " '__dict__',\n",
              " '__dir__',\n",
              " '__doc__',\n",
              " '__eq__',\n",
              " '__format__',\n",
              " '__ge__',\n",
              " '__getattribute__',\n",
              " '__gt__',\n",
              " '__hash__',\n",
              " '__init__',\n",
              " '__init_subclass__',\n",
              " '__le__',\n",
              " '__lt__',\n",
              " '__module__',\n",
              " '__ne__',\n",
              " '__new__',\n",
              " '__reduce__',\n",
              " '__reduce_ex__',\n",
              " '__repr__',\n",
              " '__setattr__',\n",
              " '__sizeof__',\n",
              " '__str__',\n",
              " '__subclasshook__',\n",
              " '__weakref__',\n",
              " 'color',\n",
              " 'doors',\n",
              " 'engine',\n",
              " 'model',\n",
              " 'name',\n",
              " 'show',\n",
              " 'speed',\n",
              " 'windows']"
            ]
          },
          "metadata": {},
          "execution_count": 96
        }
      ]
    },
    {
      "cell_type": "code",
      "source": [],
      "metadata": {
        "id": "3wPilVC-qiiZ"
      },
      "execution_count": null,
      "outputs": []
    }
  ]
}